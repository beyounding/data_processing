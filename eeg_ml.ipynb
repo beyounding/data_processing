{
  "nbformat": 4,
  "nbformat_minor": 0,
  "metadata": {
    "colab": {
      "provenance": [],
      "authorship_tag": "ABX9TyNW66QGnZ26U5iXACzBnkGa",
      "include_colab_link": true
    },
    "kernelspec": {
      "name": "python3",
      "display_name": "Python 3"
    },
    "language_info": {
      "name": "python"
    }
  },
  "cells": [
    {
      "cell_type": "markdown",
      "metadata": {
        "id": "view-in-github",
        "colab_type": "text"
      },
      "source": [
        "<a href=\"https://colab.research.google.com/github/beyounding/data_processing/blob/main/eeg_ml.ipynb\" target=\"_parent\"><img src=\"https://colab.research.google.com/assets/colab-badge.svg\" alt=\"Open In Colab\"/></a>"
      ]
    },
    {
      "cell_type": "code",
      "source": [
        "import pandas as pd\n",
        "import numpy as np\n",
        "from pandas import read_excel as read"
      ],
      "metadata": {
        "id": "O5zrhFoV1mau"
      },
      "execution_count": null,
      "outputs": []
    },
    {
      "cell_type": "code",
      "source": [
        "from sklearn import preprocessing\n",
        "from sklearn.feature_selection import SelectKBest, f_regression\n",
        "from sklearn.model_selection import train_test_split\n",
        "from sklearn import metrics\n",
        "from sklearn.metrics import classification_report, confusion_matrix, accuracy_score, f1_score\n",
        "from sklearn.ensemble import VotingClassifier\n",
        "from sklearn.preprocessing import StandardScaler\n",
        "import seaborn as sns\n",
        "from matplotlib import pyplot as plt"
      ],
      "metadata": {
        "id": "SalctLtx25IF"
      },
      "execution_count": null,
      "outputs": []
    },
    {
      "cell_type": "code",
      "source": [
        "from sklearn.tree import DecisionTreeClassifier\n",
        "from sklearn.ensemble import ExtraTreesClassifier\n",
        "from sklearn.naive_bayes import GaussianNB\n",
        "from sklearn.linear_model import LogisticRegression\n",
        "from sklearn.neighbors import KNeighborsClassifier\n",
        "from sklearn.neural_network import MLPClassifier\n",
        "from sklearn.ensemble import RandomForestClassifier\n",
        "from sklearn.ensemble import GradientBoostingClassifier"
      ],
      "metadata": {
        "id": "7x92cDFJ28IY"
      },
      "execution_count": null,
      "outputs": []
    },
    {
      "cell_type": "code",
      "source": [
        "label_encoder = preprocessing.LabelEncoder()"
      ],
      "metadata": {
        "id": "ZcpqdzDn2-In"
      },
      "execution_count": null,
      "outputs": []
    },
    {
      "cell_type": "code",
      "source": [
        "path='/content/merge12.xlsx'\n",
        "data = read(path)\n",
        "data"
      ],
      "metadata": {
        "colab": {
          "base_uri": "https://localhost:8080/",
          "height": 487
        },
        "id": "7ECn5M4r2_6s",
        "outputId": "2a7e62a5-b860-4fc7-9909-eb0666f7ed65"
      },
      "execution_count": null,
      "outputs": [
        {
          "output_type": "execute_result",
          "data": {
            "text/plain": [
              "       time  freq           Fp1       Fp2        F7        F3        Fz  \\\n",
              "0     0.000     3  4.409600e+12  0.360943  0.325448  1.345075  1.651437   \n",
              "1     0.015     3  9.209339e+12  0.237087  0.949976  0.963214  1.593962   \n",
              "2     0.030     3  2.032911e+13  0.395083  1.526684  1.569937  0.985665   \n",
              "3     0.045     3  2.424447e+13  0.892350  1.244912  3.859368  0.977293   \n",
              "4     0.060     3  1.528867e+13  1.111415  0.727207  5.266611  2.166351   \n",
              "...     ...   ...           ...       ...       ...       ...       ...   \n",
              "1085  1.560    31  6.210006e+12  1.864840  0.053837  0.175751  0.159288   \n",
              "1086  1.575    31  7.272504e+12  2.726824  0.277070  0.037900  0.353579   \n",
              "1087  1.590    31  7.238309e+12  3.402845  0.681088  0.402483  1.027176   \n",
              "1088  1.605    31  6.307300e+12  3.276735  0.943497  0.717874  1.545387   \n",
              "1089  1.620    31  4.742765e+12  2.441693  0.885731  0.704362  1.509883   \n",
              "\n",
              "            F4        F8        T3  ...        P3        Pz        P4  \\\n",
              "0     0.394474  0.795999  0.079237  ...  3.287380  1.479211  1.525952   \n",
              "1     1.124909  0.538387  0.213164  ...  5.497775  3.800277  1.447126   \n",
              "2     1.742142  0.533974  0.298531  ...  4.758530  5.036044  0.914571   \n",
              "3     1.391103  1.338679  0.225813  ...  2.982624  3.440304  1.382249   \n",
              "4     0.844436  2.272418  0.244880  ...  4.978165  2.655656  2.737322   \n",
              "...        ...       ...       ...  ...       ...       ...       ...   \n",
              "1085  0.164702  0.379771  0.039071  ...  1.790559  1.466299  1.739232   \n",
              "1086  0.369496  0.564706  0.505752  ...  1.423617  1.027070  1.603714   \n",
              "1087  0.627200  0.626470  1.204189  ...  0.903122  0.553120  1.134276   \n",
              "1088  0.785009  0.519180  1.649264  ...  0.483334  0.244421  0.651307   \n",
              "1089  0.750706  0.330039  1.600710  ...  0.241961  0.119956  0.320893   \n",
              "\n",
              "            T6        O1        O2        A1        A2       Ref  trial  \n",
              "0     1.068929  0.331825  0.112707  0.590307  1.026125  0.433435      1  \n",
              "1     2.380626  0.347356  0.179102  0.629849  1.050265  0.767174      1  \n",
              "2     2.690443  0.832657  0.138594  1.529468  2.860370  1.913949      1  \n",
              "3     1.754501  1.307489  0.045366  2.285696  5.429465  2.691442      1  \n",
              "4     2.260328  1.148942  0.010598  1.715654  5.495535  2.013804      1  \n",
              "...        ...       ...       ...       ...       ...       ...    ...  \n",
              "1085  0.458364  0.230294  3.015674  3.512388  3.768509  2.110473      2  \n",
              "1086  0.003420  0.485244  1.794045  3.079061  2.210451  0.716540      2  \n",
              "1087  0.564247  0.869908  0.704617  2.415877  1.012840  0.373804      2  \n",
              "1088  1.730435  1.077581  0.147244  1.792046  0.434912  0.982115      2  \n",
              "1089  2.686794  0.962358  0.009309  1.285683  0.286004  1.644147      2  \n",
              "\n",
              "[1090 rows x 25 columns]"
            ],
            "text/html": [
              "\n",
              "  <div id=\"df-a21faa13-b4ce-4fa8-a609-312d385c9916\">\n",
              "    <div class=\"colab-df-container\">\n",
              "      <div>\n",
              "<style scoped>\n",
              "    .dataframe tbody tr th:only-of-type {\n",
              "        vertical-align: middle;\n",
              "    }\n",
              "\n",
              "    .dataframe tbody tr th {\n",
              "        vertical-align: top;\n",
              "    }\n",
              "\n",
              "    .dataframe thead th {\n",
              "        text-align: right;\n",
              "    }\n",
              "</style>\n",
              "<table border=\"1\" class=\"dataframe\">\n",
              "  <thead>\n",
              "    <tr style=\"text-align: right;\">\n",
              "      <th></th>\n",
              "      <th>time</th>\n",
              "      <th>freq</th>\n",
              "      <th>Fp1</th>\n",
              "      <th>Fp2</th>\n",
              "      <th>F7</th>\n",
              "      <th>F3</th>\n",
              "      <th>Fz</th>\n",
              "      <th>F4</th>\n",
              "      <th>F8</th>\n",
              "      <th>T3</th>\n",
              "      <th>...</th>\n",
              "      <th>P3</th>\n",
              "      <th>Pz</th>\n",
              "      <th>P4</th>\n",
              "      <th>T6</th>\n",
              "      <th>O1</th>\n",
              "      <th>O2</th>\n",
              "      <th>A1</th>\n",
              "      <th>A2</th>\n",
              "      <th>Ref</th>\n",
              "      <th>trial</th>\n",
              "    </tr>\n",
              "  </thead>\n",
              "  <tbody>\n",
              "    <tr>\n",
              "      <th>0</th>\n",
              "      <td>0.000</td>\n",
              "      <td>3</td>\n",
              "      <td>4.409600e+12</td>\n",
              "      <td>0.360943</td>\n",
              "      <td>0.325448</td>\n",
              "      <td>1.345075</td>\n",
              "      <td>1.651437</td>\n",
              "      <td>0.394474</td>\n",
              "      <td>0.795999</td>\n",
              "      <td>0.079237</td>\n",
              "      <td>...</td>\n",
              "      <td>3.287380</td>\n",
              "      <td>1.479211</td>\n",
              "      <td>1.525952</td>\n",
              "      <td>1.068929</td>\n",
              "      <td>0.331825</td>\n",
              "      <td>0.112707</td>\n",
              "      <td>0.590307</td>\n",
              "      <td>1.026125</td>\n",
              "      <td>0.433435</td>\n",
              "      <td>1</td>\n",
              "    </tr>\n",
              "    <tr>\n",
              "      <th>1</th>\n",
              "      <td>0.015</td>\n",
              "      <td>3</td>\n",
              "      <td>9.209339e+12</td>\n",
              "      <td>0.237087</td>\n",
              "      <td>0.949976</td>\n",
              "      <td>0.963214</td>\n",
              "      <td>1.593962</td>\n",
              "      <td>1.124909</td>\n",
              "      <td>0.538387</td>\n",
              "      <td>0.213164</td>\n",
              "      <td>...</td>\n",
              "      <td>5.497775</td>\n",
              "      <td>3.800277</td>\n",
              "      <td>1.447126</td>\n",
              "      <td>2.380626</td>\n",
              "      <td>0.347356</td>\n",
              "      <td>0.179102</td>\n",
              "      <td>0.629849</td>\n",
              "      <td>1.050265</td>\n",
              "      <td>0.767174</td>\n",
              "      <td>1</td>\n",
              "    </tr>\n",
              "    <tr>\n",
              "      <th>2</th>\n",
              "      <td>0.030</td>\n",
              "      <td>3</td>\n",
              "      <td>2.032911e+13</td>\n",
              "      <td>0.395083</td>\n",
              "      <td>1.526684</td>\n",
              "      <td>1.569937</td>\n",
              "      <td>0.985665</td>\n",
              "      <td>1.742142</td>\n",
              "      <td>0.533974</td>\n",
              "      <td>0.298531</td>\n",
              "      <td>...</td>\n",
              "      <td>4.758530</td>\n",
              "      <td>5.036044</td>\n",
              "      <td>0.914571</td>\n",
              "      <td>2.690443</td>\n",
              "      <td>0.832657</td>\n",
              "      <td>0.138594</td>\n",
              "      <td>1.529468</td>\n",
              "      <td>2.860370</td>\n",
              "      <td>1.913949</td>\n",
              "      <td>1</td>\n",
              "    </tr>\n",
              "    <tr>\n",
              "      <th>3</th>\n",
              "      <td>0.045</td>\n",
              "      <td>3</td>\n",
              "      <td>2.424447e+13</td>\n",
              "      <td>0.892350</td>\n",
              "      <td>1.244912</td>\n",
              "      <td>3.859368</td>\n",
              "      <td>0.977293</td>\n",
              "      <td>1.391103</td>\n",
              "      <td>1.338679</td>\n",
              "      <td>0.225813</td>\n",
              "      <td>...</td>\n",
              "      <td>2.982624</td>\n",
              "      <td>3.440304</td>\n",
              "      <td>1.382249</td>\n",
              "      <td>1.754501</td>\n",
              "      <td>1.307489</td>\n",
              "      <td>0.045366</td>\n",
              "      <td>2.285696</td>\n",
              "      <td>5.429465</td>\n",
              "      <td>2.691442</td>\n",
              "      <td>1</td>\n",
              "    </tr>\n",
              "    <tr>\n",
              "      <th>4</th>\n",
              "      <td>0.060</td>\n",
              "      <td>3</td>\n",
              "      <td>1.528867e+13</td>\n",
              "      <td>1.111415</td>\n",
              "      <td>0.727207</td>\n",
              "      <td>5.266611</td>\n",
              "      <td>2.166351</td>\n",
              "      <td>0.844436</td>\n",
              "      <td>2.272418</td>\n",
              "      <td>0.244880</td>\n",
              "      <td>...</td>\n",
              "      <td>4.978165</td>\n",
              "      <td>2.655656</td>\n",
              "      <td>2.737322</td>\n",
              "      <td>2.260328</td>\n",
              "      <td>1.148942</td>\n",
              "      <td>0.010598</td>\n",
              "      <td>1.715654</td>\n",
              "      <td>5.495535</td>\n",
              "      <td>2.013804</td>\n",
              "      <td>1</td>\n",
              "    </tr>\n",
              "    <tr>\n",
              "      <th>...</th>\n",
              "      <td>...</td>\n",
              "      <td>...</td>\n",
              "      <td>...</td>\n",
              "      <td>...</td>\n",
              "      <td>...</td>\n",
              "      <td>...</td>\n",
              "      <td>...</td>\n",
              "      <td>...</td>\n",
              "      <td>...</td>\n",
              "      <td>...</td>\n",
              "      <td>...</td>\n",
              "      <td>...</td>\n",
              "      <td>...</td>\n",
              "      <td>...</td>\n",
              "      <td>...</td>\n",
              "      <td>...</td>\n",
              "      <td>...</td>\n",
              "      <td>...</td>\n",
              "      <td>...</td>\n",
              "      <td>...</td>\n",
              "      <td>...</td>\n",
              "    </tr>\n",
              "    <tr>\n",
              "      <th>1085</th>\n",
              "      <td>1.560</td>\n",
              "      <td>31</td>\n",
              "      <td>6.210006e+12</td>\n",
              "      <td>1.864840</td>\n",
              "      <td>0.053837</td>\n",
              "      <td>0.175751</td>\n",
              "      <td>0.159288</td>\n",
              "      <td>0.164702</td>\n",
              "      <td>0.379771</td>\n",
              "      <td>0.039071</td>\n",
              "      <td>...</td>\n",
              "      <td>1.790559</td>\n",
              "      <td>1.466299</td>\n",
              "      <td>1.739232</td>\n",
              "      <td>0.458364</td>\n",
              "      <td>0.230294</td>\n",
              "      <td>3.015674</td>\n",
              "      <td>3.512388</td>\n",
              "      <td>3.768509</td>\n",
              "      <td>2.110473</td>\n",
              "      <td>2</td>\n",
              "    </tr>\n",
              "    <tr>\n",
              "      <th>1086</th>\n",
              "      <td>1.575</td>\n",
              "      <td>31</td>\n",
              "      <td>7.272504e+12</td>\n",
              "      <td>2.726824</td>\n",
              "      <td>0.277070</td>\n",
              "      <td>0.037900</td>\n",
              "      <td>0.353579</td>\n",
              "      <td>0.369496</td>\n",
              "      <td>0.564706</td>\n",
              "      <td>0.505752</td>\n",
              "      <td>...</td>\n",
              "      <td>1.423617</td>\n",
              "      <td>1.027070</td>\n",
              "      <td>1.603714</td>\n",
              "      <td>0.003420</td>\n",
              "      <td>0.485244</td>\n",
              "      <td>1.794045</td>\n",
              "      <td>3.079061</td>\n",
              "      <td>2.210451</td>\n",
              "      <td>0.716540</td>\n",
              "      <td>2</td>\n",
              "    </tr>\n",
              "    <tr>\n",
              "      <th>1087</th>\n",
              "      <td>1.590</td>\n",
              "      <td>31</td>\n",
              "      <td>7.238309e+12</td>\n",
              "      <td>3.402845</td>\n",
              "      <td>0.681088</td>\n",
              "      <td>0.402483</td>\n",
              "      <td>1.027176</td>\n",
              "      <td>0.627200</td>\n",
              "      <td>0.626470</td>\n",
              "      <td>1.204189</td>\n",
              "      <td>...</td>\n",
              "      <td>0.903122</td>\n",
              "      <td>0.553120</td>\n",
              "      <td>1.134276</td>\n",
              "      <td>0.564247</td>\n",
              "      <td>0.869908</td>\n",
              "      <td>0.704617</td>\n",
              "      <td>2.415877</td>\n",
              "      <td>1.012840</td>\n",
              "      <td>0.373804</td>\n",
              "      <td>2</td>\n",
              "    </tr>\n",
              "    <tr>\n",
              "      <th>1088</th>\n",
              "      <td>1.605</td>\n",
              "      <td>31</td>\n",
              "      <td>6.307300e+12</td>\n",
              "      <td>3.276735</td>\n",
              "      <td>0.943497</td>\n",
              "      <td>0.717874</td>\n",
              "      <td>1.545387</td>\n",
              "      <td>0.785009</td>\n",
              "      <td>0.519180</td>\n",
              "      <td>1.649264</td>\n",
              "      <td>...</td>\n",
              "      <td>0.483334</td>\n",
              "      <td>0.244421</td>\n",
              "      <td>0.651307</td>\n",
              "      <td>1.730435</td>\n",
              "      <td>1.077581</td>\n",
              "      <td>0.147244</td>\n",
              "      <td>1.792046</td>\n",
              "      <td>0.434912</td>\n",
              "      <td>0.982115</td>\n",
              "      <td>2</td>\n",
              "    </tr>\n",
              "    <tr>\n",
              "      <th>1089</th>\n",
              "      <td>1.620</td>\n",
              "      <td>31</td>\n",
              "      <td>4.742765e+12</td>\n",
              "      <td>2.441693</td>\n",
              "      <td>0.885731</td>\n",
              "      <td>0.704362</td>\n",
              "      <td>1.509883</td>\n",
              "      <td>0.750706</td>\n",
              "      <td>0.330039</td>\n",
              "      <td>1.600710</td>\n",
              "      <td>...</td>\n",
              "      <td>0.241961</td>\n",
              "      <td>0.119956</td>\n",
              "      <td>0.320893</td>\n",
              "      <td>2.686794</td>\n",
              "      <td>0.962358</td>\n",
              "      <td>0.009309</td>\n",
              "      <td>1.285683</td>\n",
              "      <td>0.286004</td>\n",
              "      <td>1.644147</td>\n",
              "      <td>2</td>\n",
              "    </tr>\n",
              "  </tbody>\n",
              "</table>\n",
              "<p>1090 rows × 25 columns</p>\n",
              "</div>\n",
              "      <button class=\"colab-df-convert\" onclick=\"convertToInteractive('df-a21faa13-b4ce-4fa8-a609-312d385c9916')\"\n",
              "              title=\"Convert this dataframe to an interactive table.\"\n",
              "              style=\"display:none;\">\n",
              "        \n",
              "  <svg xmlns=\"http://www.w3.org/2000/svg\" height=\"24px\"viewBox=\"0 0 24 24\"\n",
              "       width=\"24px\">\n",
              "    <path d=\"M0 0h24v24H0V0z\" fill=\"none\"/>\n",
              "    <path d=\"M18.56 5.44l.94 2.06.94-2.06 2.06-.94-2.06-.94-.94-2.06-.94 2.06-2.06.94zm-11 1L8.5 8.5l.94-2.06 2.06-.94-2.06-.94L8.5 2.5l-.94 2.06-2.06.94zm10 10l.94 2.06.94-2.06 2.06-.94-2.06-.94-.94-2.06-.94 2.06-2.06.94z\"/><path d=\"M17.41 7.96l-1.37-1.37c-.4-.4-.92-.59-1.43-.59-.52 0-1.04.2-1.43.59L10.3 9.45l-7.72 7.72c-.78.78-.78 2.05 0 2.83L4 21.41c.39.39.9.59 1.41.59.51 0 1.02-.2 1.41-.59l7.78-7.78 2.81-2.81c.8-.78.8-2.07 0-2.86zM5.41 20L4 18.59l7.72-7.72 1.47 1.35L5.41 20z\"/>\n",
              "  </svg>\n",
              "      </button>\n",
              "      \n",
              "  <style>\n",
              "    .colab-df-container {\n",
              "      display:flex;\n",
              "      flex-wrap:wrap;\n",
              "      gap: 12px;\n",
              "    }\n",
              "\n",
              "    .colab-df-convert {\n",
              "      background-color: #E8F0FE;\n",
              "      border: none;\n",
              "      border-radius: 50%;\n",
              "      cursor: pointer;\n",
              "      display: none;\n",
              "      fill: #1967D2;\n",
              "      height: 32px;\n",
              "      padding: 0 0 0 0;\n",
              "      width: 32px;\n",
              "    }\n",
              "\n",
              "    .colab-df-convert:hover {\n",
              "      background-color: #E2EBFA;\n",
              "      box-shadow: 0px 1px 2px rgba(60, 64, 67, 0.3), 0px 1px 3px 1px rgba(60, 64, 67, 0.15);\n",
              "      fill: #174EA6;\n",
              "    }\n",
              "\n",
              "    [theme=dark] .colab-df-convert {\n",
              "      background-color: #3B4455;\n",
              "      fill: #D2E3FC;\n",
              "    }\n",
              "\n",
              "    [theme=dark] .colab-df-convert:hover {\n",
              "      background-color: #434B5C;\n",
              "      box-shadow: 0px 1px 3px 1px rgba(0, 0, 0, 0.15);\n",
              "      filter: drop-shadow(0px 1px 2px rgba(0, 0, 0, 0.3));\n",
              "      fill: #FFFFFF;\n",
              "    }\n",
              "  </style>\n",
              "\n",
              "      <script>\n",
              "        const buttonEl =\n",
              "          document.querySelector('#df-a21faa13-b4ce-4fa8-a609-312d385c9916 button.colab-df-convert');\n",
              "        buttonEl.style.display =\n",
              "          google.colab.kernel.accessAllowed ? 'block' : 'none';\n",
              "\n",
              "        async function convertToInteractive(key) {\n",
              "          const element = document.querySelector('#df-a21faa13-b4ce-4fa8-a609-312d385c9916');\n",
              "          const dataTable =\n",
              "            await google.colab.kernel.invokeFunction('convertToInteractive',\n",
              "                                                     [key], {});\n",
              "          if (!dataTable) return;\n",
              "\n",
              "          const docLinkHtml = 'Like what you see? Visit the ' +\n",
              "            '<a target=\"_blank\" href=https://colab.research.google.com/notebooks/data_table.ipynb>data table notebook</a>'\n",
              "            + ' to learn more about interactive tables.';\n",
              "          element.innerHTML = '';\n",
              "          dataTable['output_type'] = 'display_data';\n",
              "          await google.colab.output.renderOutput(dataTable, element);\n",
              "          const docLink = document.createElement('div');\n",
              "          docLink.innerHTML = docLinkHtml;\n",
              "          element.appendChild(docLink);\n",
              "        }\n",
              "      </script>\n",
              "    </div>\n",
              "  </div>\n",
              "  "
            ]
          },
          "metadata": {},
          "execution_count": 6
        }
      ]
    },
    {
      "cell_type": "code",
      "source": [
        "x = data.values[::, 2:24]\n",
        "label_encoder.fit(data[\"trial\"])\n",
        "y = label_encoder.transform(data[\"trial\"])"
      ],
      "metadata": {
        "id": "gUiLDgFR3Qwz"
      },
      "execution_count": null,
      "outputs": []
    },
    {
      "cell_type": "code",
      "source": [
        "y"
      ],
      "metadata": {
        "id": "ZNfPWi0G3wu-",
        "colab": {
          "base_uri": "https://localhost:8080/"
        },
        "outputId": "9bd54ab3-9c05-4d03-b937-a7439bb44bda"
      },
      "execution_count": null,
      "outputs": [
        {
          "output_type": "execute_result",
          "data": {
            "text/plain": [
              "array([0, 0, 0, ..., 1, 1, 1])"
            ]
          },
          "metadata": {},
          "execution_count": 15
        }
      ]
    },
    {
      "cell_type": "code",
      "source": [
        "x_train, x_test, y_train, y_test = train_test_split(x, y, random_state=42, test_size = 0.3)"
      ],
      "metadata": {
        "id": "xt92V2Kq3xvi"
      },
      "execution_count": null,
      "outputs": []
    },
    {
      "cell_type": "code",
      "source": [
        "x_train = StandardScaler().fit_transform(x_train)\n",
        "x_test = StandardScaler().fit_transform(x_test)"
      ],
      "metadata": {
        "id": "2lpwHVJOktDx"
      },
      "execution_count": null,
      "outputs": []
    },
    {
      "cell_type": "code",
      "source": [
        "#importance\n",
        "model = ExtraTreesClassifier()\n",
        "model.fit(x, y)\n",
        "print(model.feature_importances_)"
      ],
      "metadata": {
        "id": "jgoTWvW7jrwv",
        "colab": {
          "base_uri": "https://localhost:8080/"
        },
        "outputId": "9991321d-5828-4aa7-8b51-4d89bf41dded"
      },
      "execution_count": null,
      "outputs": [
        {
          "output_type": "stream",
          "name": "stdout",
          "text": [
            "[0.01646764 0.02461652 0.02374902 0.02719328 0.02097763 0.08586097\n",
            " 0.04228683 0.06430787 0.09768096 0.03711008 0.05442056 0.03602178\n",
            " 0.09960738 0.06322216 0.06854086 0.01990205 0.02502336 0.02194036\n",
            " 0.0251981  0.03003825 0.06843695 0.04739739]\n"
          ]
        }
      ]
    },
    {
      "cell_type": "code",
      "source": [
        "dt = DecisionTreeClassifier()\n",
        "dt.fit(x_train, y_train)\n",
        "pred_dt = dt.predict(x_test)\n",
        "\n",
        "print(metrics.accuracy_score(y_test, pred_dt)*100)\n",
        "print(confusion_matrix(y_test, pred_dt))\n",
        "print(classification_report(y_test, pred_dt))"
      ],
      "metadata": {
        "colab": {
          "base_uri": "https://localhost:8080/"
        },
        "id": "gpEUxp-1K5ja",
        "outputId": "d8a030b8-c52a-4836-e2a3-2fc1097212d6"
      },
      "execution_count": null,
      "outputs": [
        {
          "output_type": "stream",
          "name": "stdout",
          "text": [
            "89.60244648318043\n",
            "[[151  20]\n",
            " [ 14 142]]\n",
            "              precision    recall  f1-score   support\n",
            "\n",
            "           0       0.92      0.88      0.90       171\n",
            "           1       0.88      0.91      0.89       156\n",
            "\n",
            "    accuracy                           0.90       327\n",
            "   macro avg       0.90      0.90      0.90       327\n",
            "weighted avg       0.90      0.90      0.90       327\n",
            "\n"
          ]
        }
      ]
    },
    {
      "cell_type": "code",
      "source": [
        "rf = RandomForestClassifier()\n",
        "rf.fit(x_train, y_train)\n",
        "pred_rf = rf.predict(x_test)\n",
        "\n",
        "print(metrics.accuracy_score(y_test, pred_rf)*100)\n",
        "print(confusion_matrix(y_test, pred_rf))\n",
        "print(classification_report(y_test, pred_rf))"
      ],
      "metadata": {
        "colab": {
          "base_uri": "https://localhost:8080/"
        },
        "id": "Tqr-eoEuLAFA",
        "outputId": "d43601b3-9599-4fdb-f3d9-6d30d7bf8418"
      },
      "execution_count": null,
      "outputs": [
        {
          "output_type": "stream",
          "name": "stdout",
          "text": [
            "99.08256880733946\n",
            "[[170   1]\n",
            " [  2 154]]\n",
            "              precision    recall  f1-score   support\n",
            "\n",
            "           0       0.99      0.99      0.99       171\n",
            "           1       0.99      0.99      0.99       156\n",
            "\n",
            "    accuracy                           0.99       327\n",
            "   macro avg       0.99      0.99      0.99       327\n",
            "weighted avg       0.99      0.99      0.99       327\n",
            "\n"
          ]
        }
      ]
    },
    {
      "cell_type": "code",
      "source": [
        "nb = GaussianNB()\n",
        "nb.fit(x_train, y_train)\n",
        "pred_nb = nb.predict(x_test)\n",
        "print(metrics.accuracy_score(y_test, pred_nb)*100)\n",
        "print(confusion_matrix(y_test, pred_nb))\n",
        "print(classification_report(y_test, pred_nb))"
      ],
      "metadata": {
        "colab": {
          "base_uri": "https://localhost:8080/"
        },
        "id": "4VvvuhHGLCLa",
        "outputId": "e48dfe7d-f3dd-4119-fa50-637a37a7fa8f"
      },
      "execution_count": null,
      "outputs": [
        {
          "output_type": "stream",
          "name": "stdout",
          "text": [
            "85.01529051987767\n",
            "[[171   0]\n",
            " [ 49 107]]\n",
            "              precision    recall  f1-score   support\n",
            "\n",
            "           0       0.78      1.00      0.87       171\n",
            "           1       1.00      0.69      0.81       156\n",
            "\n",
            "    accuracy                           0.85       327\n",
            "   macro avg       0.89      0.84      0.84       327\n",
            "weighted avg       0.88      0.85      0.85       327\n",
            "\n"
          ]
        }
      ]
    },
    {
      "cell_type": "code",
      "source": [
        "lr = LogisticRegression()\n",
        "lr.fit(x_train, y_train)\n",
        "pred_lr = lr.predict(x_test)\n",
        "print(metrics.accuracy_score(y_test, pred_lr)*100)\n",
        "print(confusion_matrix(y_test, pred_lr))\n",
        "print(classification_report(y_test, pred_lr))\n"
      ],
      "metadata": {
        "colab": {
          "base_uri": "https://localhost:8080/"
        },
        "id": "pHm656ztLE0K",
        "outputId": "1ca3c93d-bfe0-4786-cd1a-c7e03797761e"
      },
      "execution_count": null,
      "outputs": [
        {
          "output_type": "stream",
          "name": "stdout",
          "text": [
            "94.80122324159022\n",
            "[[160  11]\n",
            " [  6 150]]\n",
            "              precision    recall  f1-score   support\n",
            "\n",
            "           0       0.96      0.94      0.95       171\n",
            "           1       0.93      0.96      0.95       156\n",
            "\n",
            "    accuracy                           0.95       327\n",
            "   macro avg       0.95      0.95      0.95       327\n",
            "weighted avg       0.95      0.95      0.95       327\n",
            "\n"
          ]
        }
      ]
    },
    {
      "cell_type": "code",
      "source": [
        "knn = KNeighborsClassifier()\n",
        "knn.fit(x_train, y_train)\n",
        "pred_knn = knn.predict(x_test)\n",
        "print(metrics.accuracy_score(y_test, pred_knn)*100)\n",
        "print(confusion_matrix(y_test, pred_knn))\n",
        "print(classification_report(y_test, pred_knn))"
      ],
      "metadata": {
        "colab": {
          "base_uri": "https://localhost:8080/"
        },
        "id": "-VBK0dKZLGtH",
        "outputId": "f439c60f-079b-46d2-ccc2-7a62e5a0493f"
      },
      "execution_count": null,
      "outputs": [
        {
          "output_type": "stream",
          "name": "stdout",
          "text": [
            "99.08256880733946\n",
            "[[169   2]\n",
            " [  1 155]]\n",
            "              precision    recall  f1-score   support\n",
            "\n",
            "           0       0.99      0.99      0.99       171\n",
            "           1       0.99      0.99      0.99       156\n",
            "\n",
            "    accuracy                           0.99       327\n",
            "   macro avg       0.99      0.99      0.99       327\n",
            "weighted avg       0.99      0.99      0.99       327\n",
            "\n"
          ]
        }
      ]
    },
    {
      "cell_type": "code",
      "source": [
        "nn = MLPClassifier(hidden_layer_sizes =(200, 200, 200), activation = 'relu', max_iter = 100)\n",
        "nn.fit(x_train, y_train)\n",
        "pred_nn = dt.predict(x_test)\n",
        "\n",
        "print(metrics.accuracy_score(y_test, pred_nn)*100)\n",
        "print(confusion_matrix(y_test, pred_nn))\n",
        "print(classification_report(y_test, pred_nn))"
      ],
      "metadata": {
        "colab": {
          "base_uri": "https://localhost:8080/"
        },
        "id": "p9J0PKgjLIUg",
        "outputId": "574a463c-492e-4eb8-800f-f68fd5d0aafb"
      },
      "execution_count": null,
      "outputs": [
        {
          "output_type": "stream",
          "name": "stdout",
          "text": [
            "89.60244648318043\n",
            "[[151  20]\n",
            " [ 14 142]]\n",
            "              precision    recall  f1-score   support\n",
            "\n",
            "           0       0.92      0.88      0.90       171\n",
            "           1       0.88      0.91      0.89       156\n",
            "\n",
            "    accuracy                           0.90       327\n",
            "   macro avg       0.90      0.90      0.90       327\n",
            "weighted avg       0.90      0.90      0.90       327\n",
            "\n"
          ]
        }
      ]
    },
    {
      "cell_type": "code",
      "source": [
        "gb = GradientBoostingClassifier()\n",
        "gb.fit(x_train, y_train)\n",
        "pred_gb = gb.predict(x_test)\n",
        "\n",
        "print(metrics.accuracy_score(y_test, pred_gb)*100)\n",
        "print(confusion_matrix(y_test, pred_gb))\n",
        "print(classification_report(y_test, pred_gb))"
      ],
      "metadata": {
        "colab": {
          "base_uri": "https://localhost:8080/"
        },
        "id": "cuOvq4wWLKQK",
        "outputId": "6c03abb1-50b4-4881-86f5-cdd86eb0b48d"
      },
      "execution_count": null,
      "outputs": [
        {
          "output_type": "stream",
          "name": "stdout",
          "text": [
            "98.1651376146789\n",
            "[[165   6]\n",
            " [  0 156]]\n",
            "              precision    recall  f1-score   support\n",
            "\n",
            "           0       1.00      0.96      0.98       171\n",
            "           1       0.96      1.00      0.98       156\n",
            "\n",
            "    accuracy                           0.98       327\n",
            "   macro avg       0.98      0.98      0.98       327\n",
            "weighted avg       0.98      0.98      0.98       327\n",
            "\n"
          ]
        }
      ]
    },
    {
      "cell_type": "code",
      "source": [],
      "metadata": {
        "id": "AB_0bVYMLQP3"
      },
      "execution_count": null,
      "outputs": []
    }
  ]
}