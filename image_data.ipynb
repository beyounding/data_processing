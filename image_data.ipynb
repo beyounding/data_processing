{
  "nbformat": 4,
  "nbformat_minor": 0,
  "metadata": {
    "colab": {
      "provenance": [],
      "include_colab_link": true
    },
    "kernelspec": {
      "name": "python3",
      "display_name": "Python 3"
    },
    "language_info": {
      "name": "python"
    }
  },
  "cells": [
    {
      "cell_type": "markdown",
      "metadata": {
        "id": "view-in-github",
        "colab_type": "text"
      },
      "source": [
        "<a href=\"https://colab.research.google.com/github/beyounding/data_processing/blob/main/image_data.ipynb\" target=\"_parent\"><img src=\"https://colab.research.google.com/assets/colab-badge.svg\" alt=\"Open In Colab\"/></a>"
      ]
    },
    {
      "cell_type": "markdown",
      "source": [
        "From image to the probability map"
      ],
      "metadata": {
        "id": "9oyGTx5udALm"
      }
    },
    {
      "cell_type": "code",
      "source": [
        "from google.colab import drive\n",
        "drive.mount('/content/drive')"
      ],
      "metadata": {
        "colab": {
          "base_uri": "https://localhost:8080/"
        },
        "id": "r9Esaq2wTDT6",
        "outputId": "4303968d-e15e-4575-e49a-682ebb7ebb62"
      },
      "execution_count": null,
      "outputs": [
        {
          "output_type": "stream",
          "name": "stdout",
          "text": [
            "Mounted at /content/drive\n"
          ]
        }
      ]
    },
    {
      "cell_type": "code",
      "source": [
        "from PIL import Image, ImageFile\n",
        "import numpy as np\n",
        "ImageFile.LOAD_TRUNCATED_IMAGES = True\n",
        "import cv2\n",
        "from skimage import io\n",
        "import pandas as pd\n",
        "import os\n",
        "import matplotlib.pyplot as plt\n",
        "from matplotlib import colors"
      ],
      "metadata": {
        "id": "dg9Yaie3NsY7"
      },
      "execution_count": null,
      "outputs": []
    },
    {
      "cell_type": "code",
      "source": [
        "def image_processing(fullname):\n",
        "    img = Image.open(fullname)\n",
        "    width, height = img.size\n",
        "    img = img.crop((0,height-1000,width-150,height))\n",
        "    image = img.resize((48, 27))\n",
        "    image_data = np.asarray(image)\n",
        "    gray_image = cv2.cvtColor(image_data, cv2.COLOR_BGR2GRAY)\n",
        "    n_image = np.around(np.divide(gray_image, 255.0), decimals=1)\n",
        "    df = pd.DataFrame(n_image)\n",
        "    for name, values in df.iteritems():\n",
        "        df.loc[df[name] > 0, name] = 1\n",
        "    return df"
      ],
      "metadata": {
        "id": "DpLSJFPgKE3y"
      },
      "execution_count": null,
      "outputs": []
    },
    {
      "cell_type": "code",
      "source": [
        "def background_gradient(s, m, M, cmap='PuBu', low=0, high=0):\n",
        "    rng = M - m\n",
        "    norm = colors.Normalize(m - (rng * low),\n",
        "                            M + (rng * high))\n",
        "    normed = norm(s.values)\n",
        "    c = [colors.rgb2hex(x) for x in plt.cm.get_cmap(cmap)(normed)]\n",
        "    return ['background-color: %s' % color for color in c]"
      ],
      "metadata": {
        "id": "QFNApoPNzDZo"
      },
      "execution_count": null,
      "outputs": []
    },
    {
      "cell_type": "code",
      "source": [
        "#arithmetics\n",
        "df_first=[0]*48\n",
        "chet_first=0\n",
        "\n",
        "df_sec=[0]*48\n",
        "chet_sec=0\n",
        "\n",
        "for filename in os.listdir('/content/drive/MyDrive/aritmetics'):\n",
        "  if filename[filename.rfind(\".\") + 1:] in ['tif']:\n",
        "    b=str(filename)\n",
        "    if b[len(b)-5:] in ['2.tif', '4.tif', '6.tif', '8.tif', '10.tif', '12.tif', '14.tif', '16.tif', '18.tif', '20.tif']:\n",
        "      df_sec+=image_processing('/content/drive/MyDrive/aritmetics/'+str(filename))\n",
        "      chet_sec+=1\n",
        "    elif b[len(b)-5:] in ['1.tif', '3.tif', '5.tif', '7.tif', '9.tif', '11.tif', '13.tif', '15.tif', '17.tif', '19.tif']:\n",
        "      df_first+=image_processing('/content/drive/MyDrive/aritmetics/'+str(filename))\n",
        "      chet_first+=1\n",
        "\n",
        "\n",
        "\n",
        "df_sec=df_sec/chet_sec\n",
        "df_first=df_first/chet_first\n",
        "\n",
        "df_sec=df_sec.style.apply(background_gradient,\n",
        "               cmap='PuBu',\n",
        "               m=df_sec.min().min(),\n",
        "               M=df_sec.max().max(),\n",
        "               low=0,\n",
        "               high=0.2)\n",
        "\n",
        "df_first=df_first.style.apply(background_gradient,\n",
        "               cmap='PuBu',\n",
        "               m=df_first.min().min(),\n",
        "               M=df_first.max().max(),\n",
        "               low=0,\n",
        "               high=0.2)\n",
        "\n",
        "\n",
        "df_sec.to_excel('aritm_sol.xlsx',\n",
        "              sheet_name='ioioio',\n",
        "              index=False)\n",
        "\n",
        "df_first.to_excel('arith_task.xlsx',\n",
        "              sheet_name='ioioio',\n",
        "              index=False)"
      ],
      "metadata": {
        "id": "ALvJ-TJsO4WH"
      },
      "execution_count": null,
      "outputs": []
    },
    {
      "cell_type": "code",
      "source": [
        "#creativity\n",
        "\n",
        "df_first=[0]*48\n",
        "chet_first=0\n",
        "\n",
        "df_sec=[0]*48\n",
        "chet_sec=0\n",
        "\n",
        "for filename in os.listdir('/content/drive/MyDrive/creativity'):\n",
        "  if filename[filename.rfind(\".\") + 1:] in ['tif']:\n",
        "    b=str(filename)\n",
        "    if b[len(b)-5:] in ['2.tif', '4.tif', '6.tif', '8.tif', '10.tif', '12.tif', '14.tif', '16.tif', '18.tif']:\n",
        "      df_sec+=image_processing('/content/drive/MyDrive/creativity/'+str(filename))\n",
        "      chet_sec+=1\n",
        "    elif b[len(b)-5:] in ['1.tif', '3.tif', '5.tif', '7.tif', '9.tif', '11.tif', '13.tif', '15.tif', '17.tif']:\n",
        "      df_first+=image_processing('/content/drive/MyDrive/creativity/'+str(filename))\n",
        "      chet_first+=1\n",
        "\n",
        "\n",
        "\n",
        "df_sec=df_sec/chet_sec\n",
        "df_first=df_first/chet_first\n",
        "\n",
        "df_sec=df_sec.style.apply(background_gradient,\n",
        "               cmap='PuBu',\n",
        "               m=df_sec.min().min(),\n",
        "               M=df_sec.max().max(),\n",
        "               low=0,\n",
        "               high=0.2)\n",
        "\n",
        "df_first=df_first.style.apply(background_gradient,\n",
        "               cmap='PuBu',\n",
        "               m=df_first.min().min(),\n",
        "               M=df_first.max().max(),\n",
        "               low=0,\n",
        "               high=0.2)\n",
        "\n",
        "\n",
        "\n",
        "df_sec.to_excel('idea.xlsx',\n",
        "              sheet_name='ioioio',\n",
        "              index=False)\n",
        "\n",
        "df_first.to_excel('word.xlsx',\n",
        "              sheet_name='ioioio',\n",
        "              index=False)\n"
      ],
      "metadata": {
        "id": "Y1YQwMWKQTng"
      },
      "execution_count": null,
      "outputs": []
    },
    {
      "cell_type": "code",
      "source": [
        "#logic\n",
        "\n",
        "df_first=[0]*48\n",
        "chet_first=0\n",
        "\n",
        "df_sec=[0]*48\n",
        "chet_sec=0\n",
        "\n",
        "for filename in os.listdir('/content/drive/MyDrive/logic'):\n",
        "  if filename[filename.rfind(\".\") + 1:] in ['tif']:\n",
        "    b=str(filename)\n",
        "    if b[len(b)-5:] in ['2.tif']:\n",
        "      df_sec+=image_processing('/content/drive/MyDrive/logic/'+str(filename))\n",
        "      chet_sec+=1\n",
        "    elif b[len(b)-5:] in ['1.tif']:\n",
        "      df_first+=image_processing('/content/drive/MyDrive/logic/'+str(filename))\n",
        "      chet_first+=1\n",
        "\n",
        "\n",
        "\n",
        "df_sec=df_sec/chet_sec\n",
        "df_first=df_first/chet_first\n",
        "\n",
        "df_sec=df_sec.style.apply(background_gradient,\n",
        "               cmap='PuBu',\n",
        "               m=df_sec.min().min(),\n",
        "               M=df_sec.max().max(),\n",
        "               low=0,\n",
        "               high=0.2)\n",
        "\n",
        "df_first=df_first.style.apply(background_gradient,\n",
        "               cmap='PuBu',\n",
        "               m=df_first.min().min(),\n",
        "               M=df_first.max().max(),\n",
        "               low=0,\n",
        "               high=0.2)\n",
        "\n",
        "\n",
        "\n",
        "df_sec.to_excel('solution.xlsx',\n",
        "              sheet_name='ioioio',\n",
        "              index=False)\n",
        "\n",
        "df_first.to_excel('task.xlsx',\n",
        "              sheet_name='ioioio',\n",
        "              index=False)\n"
      ],
      "metadata": {
        "id": "m4R6vm3OUtz1"
      },
      "execution_count": null,
      "outputs": []
    },
    {
      "cell_type": "code",
      "source": [
        "#third retelling\n",
        "df=[0]*48\n",
        "chet=0\n",
        "for filename in os.listdir('/content/drive/MyDrive/data_third_retelling'):\n",
        "  if filename[filename.rfind(\".\") + 1:] in ['tif']:\n",
        "    df+=image_processing('/content/drive/MyDrive/data_third_retelling/'+str(filename))\n",
        "    chet+=1\n",
        "df=df/chet\n",
        "\n",
        "df=df.style.apply(background_gradient,\n",
        "               cmap='PuBu',\n",
        "               m=df.min().min(),\n",
        "               M=df.max().max(),\n",
        "               low=0,\n",
        "               high=0.2)\n",
        "\n",
        "df.to_excel('third_ret.xlsx',\n",
        "              sheet_name='ioioio',\n",
        "              index=False)"
      ],
      "metadata": {
        "id": "26FOQ8dOJBAW"
      },
      "execution_count": null,
      "outputs": []
    },
    {
      "cell_type": "code",
      "source": [
        "#second retelling\n",
        "df=[0]*48\n",
        "chet=0\n",
        "for filename in os.listdir('/content/drive/MyDrive/data_second_retelling'):\n",
        "  if filename[filename.rfind(\".\") + 1:] in ['tif']:\n",
        "    df+=image_processing('/content/drive/MyDrive/data_second_retelling/'+str(filename))\n",
        "    chet+=1\n",
        "df=df/chet\n",
        "\n",
        "df=df.style.apply(background_gradient,\n",
        "               cmap='PuBu',\n",
        "               m=df.min().min(),\n",
        "               M=df.max().max(),\n",
        "               low=0,\n",
        "               high=0.2)\n",
        "\n",
        "df.to_excel('third_ret.xlsx',\n",
        "              sheet_name='ioioio',\n",
        "              index=False)"
      ],
      "metadata": {
        "id": "KwciCQY-0KCx"
      },
      "execution_count": null,
      "outputs": []
    },
    {
      "cell_type": "code",
      "source": [
        "#poems\n",
        "df_first=[0]*48\n",
        "chet_first=0\n",
        "\n",
        "df_third=[0]*48\n",
        "chet_third=0\n",
        "\n",
        "df_sec=[0]*48\n",
        "chet_sec=0\n",
        "\n",
        "for filename in os.listdir('/content/drive/MyDrive/poems'):\n",
        "  if filename[filename.rfind(\".\") + 1:] in ['tif']:\n",
        "    b=str(filename)\n",
        "    if b[len(b)-5:] in ['2.tif']:\n",
        "      df_sec+=image_processing('/content/drive/MyDrive/poems/'+str(filename))\n",
        "      chet_sec+=1\n",
        "    elif b[len(b)-5:] in ['1.tif']:\n",
        "      df_first+=image_processing('/content/drive/MyDrive/poems/'+str(filename))\n",
        "      chet_first+=1\n",
        "    elif b[len(b)-5:] in ['3.tif']:\n",
        "      df_third+=image_processing('/content/drive/MyDrive/poems/'+str(filename))\n",
        "      chet_third+=1\n",
        "\n",
        "\n",
        "df_sec=df_sec/chet_sec\n",
        "df_first=df_first/chet_first\n",
        "df_third=df_third/chet_third\n",
        "\n",
        "df_sec=df_sec.style.apply(background_gradient,\n",
        "               cmap='PuBu',\n",
        "               m=df_sec.min().min(),\n",
        "               M=df_sec.max().max(),\n",
        "               low=0,\n",
        "               high=0.2)\n",
        "\n",
        "df_first=df_first.style.apply(background_gradient,\n",
        "               cmap='PuBu',\n",
        "               m=df_first.min().min(),\n",
        "               M=df_first.max().max(),\n",
        "               low=0,\n",
        "               high=0.2)\n",
        "\n",
        "df_third=df_third.style.apply(background_gradient,\n",
        "               cmap='PuBu',\n",
        "               m=df_third.min().min(),\n",
        "               M=df_third.max().max(),\n",
        "               low=0,\n",
        "               high=0.2)\n",
        "\n",
        "\n",
        "df_sec.to_excel('poems_sec1.xlsx',\n",
        "              sheet_name='ioioio',\n",
        "              index=False)\n",
        "\n",
        "df_first.to_excel('poems_first1.xlsx',\n",
        "              sheet_name='ioioio',\n",
        "              index=False)\n",
        "\n",
        "df_third.to_excel('poems_third1.xlsx',\n",
        "              sheet_name='ioioio',\n",
        "              index=False)"
      ],
      "metadata": {
        "id": "CAKFlE3k0z9F"
      },
      "execution_count": null,
      "outputs": []
    },
    {
      "cell_type": "code",
      "source": [],
      "metadata": {
        "id": "z-1nkPibzybP"
      },
      "execution_count": null,
      "outputs": []
    }
  ]
}